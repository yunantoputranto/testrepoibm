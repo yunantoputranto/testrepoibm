{
 "cells": [
  {
   "cell_type": "markdown",
   "id": "adbf9435-7f8a-4637-8d23-a4b1196831fb",
   "metadata": {},
   "source": [
    "_Exercise 2: Create markdown cell with title of the notebook. Take a screenshot of the markdown cell and name it as 2-title.png_"
   ]
  },
  {
   "cell_type": "markdown",
   "id": "1f7fcd9f-79a1-4c01-8564-c3221151060d",
   "metadata": {},
   "source": [
    "### Data Science Tools and Ecosystem"
   ]
  },
  {
   "cell_type": "markdown",
   "id": "1f3940e5-03a9-4f03-8d19-5f4a330d5de6",
   "metadata": {},
   "source": [
    "_Exercise 3 - Create a markdown cell for an introduction. Take a screenshot of the markdown cell and name it as 3-intro.png_"
   ]
  },
  {
   "cell_type": "markdown",
   "id": "1d885d41-386f-40bb-9ee6-a50758447bab",
   "metadata": {},
   "source": [
    "In this notebook, Data Science Tools and Ecosystem are summarized."
   ]
  },
  {
   "cell_type": "markdown",
   "id": "cc950f82-a209-4107-a58b-30e3697b89c6",
   "metadata": {},
   "source": [
    "_Exercise 10 - Insert a markdown cell to list Objectives. Take a screenshot of the markdown cell and name it as 10-objectives.png_"
   ]
  },
  {
   "cell_type": "markdown",
   "id": "46d68c2c-1980-42f4-8ac3-c7c1e0c0c4a2",
   "metadata": {},
   "source": [
    "**Objectives:**\n",
    "- List popular languages for Data Science\n",
    "- Familiarize with Data Science Tools\n",
    "- Learn arithmetic expression in Python"
   ]
  },
  {
   "cell_type": "markdown",
   "id": "fd5ebd66-e3ab-49c8-921e-23d1f7ba3d1c",
   "metadata": {},
   "source": [
    "_Exercise 4 - Create a markdown cell to list data science languages. Take a screenshot of the markdown cell and name it as 4-dslanguages.png_"
   ]
  },
  {
   "cell_type": "markdown",
   "id": "777d3042-2a47-4726-8c5e-1797a350ccc4",
   "metadata": {},
   "source": [
    "Some of the popular languages that Data Scientists use are:\n",
    "1. R\n",
    "2. Python\n",
    "3. SQL"
   ]
  },
  {
   "cell_type": "markdown",
   "id": "01bf7290-0d36-48cf-a21e-29c43cb12fd9",
   "metadata": {},
   "source": [
    "_Exercise 5 - Create a markdown cell to list data science libraries. Take a screenshot of the markdown cell and name it as 5-dslibraries.png_"
   ]
  },
  {
   "cell_type": "markdown",
   "id": "81edbbad-cea3-42b1-b1ad-6b5a28ba80bd",
   "metadata": {},
   "source": [
    "Some of the commonly used libraries used by Data Scientists include:\n",
    "1. Pandas\n",
    "2. NumPy\n",
    "3. MatplotlibQL"
   ]
  },
  {
   "cell_type": "markdown",
   "id": "d5a78bd7-4732-4c1e-914e-a44cd32060e1",
   "metadata": {},
   "source": [
    "_Exercise 6 - Create a markdown cell with a table of Data Science tools. Take a screenshot of the markdown cell and name it as 6-dstools.png_"
   ]
  },
  {
   "cell_type": "markdown",
   "id": "139448c1-8ef3-4b08-b3a9-6600093baccc",
   "metadata": {},
   "source": [
    "Data Science Tools\n",
    "| No| Data Science Tools |\n",
    "| --| ------------------ |\n",
    "| 1| Jupyter Notebook|\n",
    "| 2| Spyder|\n",
    "| 3| RStudio|"
   ]
  },
  {
   "cell_type": "markdown",
   "id": "e99bff59-6a53-4fb9-a694-762750e19896",
   "metadata": {},
   "source": [
    "_Exercise 7 - Create a markdown cell introducing arithmetic expression examples. Take a screenshot of the markdown cell and name it as 7-introarithmetic.png_"
   ]
  },
  {
   "cell_type": "markdown",
   "id": "54733b8f-ae64-4f9c-9621-f7889d600cf5",
   "metadata": {},
   "source": [
    "### Below are a few examples of evaluating arithmetic expressions in Python"
   ]
  },
  {
   "cell_type": "markdown",
   "id": "2401b3de-c14e-455d-97eb-295b7b94a21b",
   "metadata": {},
   "source": [
    "_Exercise 8 - Create a code cell to multiply and add numbers. Take a screenshot of the code cell with output and name it as 8-multiplyandaddintegers.png_"
   ]
  },
  {
   "cell_type": "markdown",
   "id": "e7113fb2-8035-4afa-9d2d-85e38f064fea",
   "metadata": {},
   "source": [
    "This a simple arithmetic expression to mutiply then add integers"
   ]
  },
  {
   "cell_type": "code",
   "execution_count": 17,
   "id": "9eeb059a-d74c-400a-aa4d-f6bea94d8e79",
   "metadata": {},
   "outputs": [
    {
     "data": {
      "text/plain": [
       "17"
      ]
     },
     "execution_count": 17,
     "metadata": {},
     "output_type": "execute_result"
    }
   ],
   "source": [
    "(3*4)+5"
   ]
  },
  {
   "cell_type": "markdown",
   "id": "4aaae664-7848-4b41-85a4-443dcd61de12",
   "metadata": {},
   "source": [
    "_Exercise 9 - Create a code cell to convert minutes to hours. Take a screenshot of the code cell with output and name it as 9-hourstominutes.png_"
   ]
  },
  {
   "cell_type": "markdown",
   "id": "7f0b3c93-e4a8-482d-a9dd-ddfb76094f8b",
   "metadata": {},
   "source": [
    "This will convert 200 minutes to hours by diving by 60"
   ]
  },
  {
   "cell_type": "code",
   "execution_count": 23,
   "id": "0a55ff5b-295c-47c9-91c5-95d4adce92ea",
   "metadata": {},
   "outputs": [
    {
     "data": {
      "text/plain": [
       "3.3333333333333335"
      ]
     },
     "execution_count": 23,
     "metadata": {},
     "output_type": "execute_result"
    }
   ],
   "source": [
    "#converts 200 minutes into hours\n",
    "duration_minutes = 200\n",
    "duration_hour = 200/60\n",
    "duration_hour"
   ]
  },
  {
   "cell_type": "markdown",
   "id": "c2ac8ac0-6917-4a17-b13c-b5f74c9a4878",
   "metadata": {},
   "source": [
    "_Exercise 11 - Create a markdown cell to indicate the Author's name. Take a screenshot of the markdown cell and name it as 11-authordetails.png_"
   ]
  },
  {
   "cell_type": "markdown",
   "id": "b8130d75-1f49-4253-84f5-4d2aa524ee75",
   "metadata": {},
   "source": [
    "## Author\n",
    "Yunanto Putranto"
   ]
  },
  {
   "cell_type": "markdown",
   "id": "63c9b181-fd90-45c5-b12b-9a58564c00d4",
   "metadata": {},
   "source": [
    "_Exercise 12 - Share your notebook through GitHub_"
   ]
  },
  {
   "cell_type": "markdown",
   "id": "f8f9be94-58c5-4952-972c-be1e2f59b4fd",
   "metadata": {},
   "source": [
    "_Exercise 13 -Take a screenshot of the first page of the notebook and save it as 1-notebook.png_"
   ]
  },
  {
   "cell_type": "code",
   "execution_count": null,
   "id": "d08e4f53-77c9-46c1-8bc7-93f86bf96b22",
   "metadata": {},
   "outputs": [],
   "source": []
  }
 ],
 "metadata": {
  "kernelspec": {
   "display_name": "Python 3 (ipykernel)",
   "language": "python",
   "name": "python3"
  },
  "language_info": {
   "codemirror_mode": {
    "name": "ipython",
    "version": 3
   },
   "file_extension": ".py",
   "mimetype": "text/x-python",
   "name": "python",
   "nbconvert_exporter": "python",
   "pygments_lexer": "ipython3",
   "version": "3.11.4"
  }
 },
 "nbformat": 4,
 "nbformat_minor": 5
}
